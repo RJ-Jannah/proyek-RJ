{
 "cells": [
  {
   "cell_type": "markdown",
   "metadata": {},
   "source": [
    "NURUL JANNAH - 1942200006"
   ]
  },
  {
   "cell_type": "markdown",
   "metadata": {},
   "source": [
    "# DATA PREPARATION"
   ]
  },
  {
   "cell_type": "code",
   "execution_count": 1,
   "metadata": {},
   "outputs": [
    {
     "data": {
      "text/html": [
       "<div>\n",
       "<style scoped>\n",
       "    .dataframe tbody tr th:only-of-type {\n",
       "        vertical-align: middle;\n",
       "    }\n",
       "\n",
       "    .dataframe tbody tr th {\n",
       "        vertical-align: top;\n",
       "    }\n",
       "\n",
       "    .dataframe thead th {\n",
       "        text-align: right;\n",
       "    }\n",
       "</style>\n",
       "<table border=\"1\" class=\"dataframe\">\n",
       "  <thead>\n",
       "    <tr style=\"text-align: right;\">\n",
       "      <th></th>\n",
       "      <th>nim</th>\n",
       "      <th>nama</th>\n",
       "      <th>prodi</th>\n",
       "      <th>kabupaten</th>\n",
       "      <th>provinsi</th>\n",
       "      <th>penghasilan_ayah</th>\n",
       "      <th>Prestasi yang pernah saudara/i raih ?</th>\n",
       "      <th>Apa yang membuat saudara/ i tertarik kuliah di Universitas Nurul Jadid ?</th>\n",
       "      <th>Siapa yang memotivasi saudara/ i hingga akhirnya memilih kuliah di Universitas Nurul Jadid ?</th>\n",
       "      <th>prestasi_terkini</th>\n",
       "    </tr>\n",
       "  </thead>\n",
       "  <tbody>\n",
       "    <tr>\n",
       "      <th>0</th>\n",
       "      <td>2110070001</td>\n",
       "      <td>mahasiswa 1</td>\n",
       "      <td>KPI</td>\n",
       "      <td>KAB. PROBOLINGGO</td>\n",
       "      <td>Jawa Timur</td>\n",
       "      <td>Kurang dari Rp. 500.000</td>\n",
       "      <td>Juara di luar sekolah</td>\n",
       "      <td>Dekat dari rumah</td>\n",
       "      <td>Orang tua/ kerabat</td>\n",
       "      <td>1</td>\n",
       "    </tr>\n",
       "    <tr>\n",
       "      <th>1</th>\n",
       "      <td>2110170002</td>\n",
       "      <td>mahasiswa 2</td>\n",
       "      <td>KPI</td>\n",
       "      <td>KAB. PROBOLINGGO</td>\n",
       "      <td>Jawa Timur</td>\n",
       "      <td>Rp. 500.001 s/d Rp. 999.999</td>\n",
       "      <td>Juara di sekolah</td>\n",
       "      <td>Kampus berbasis pesantren</td>\n",
       "      <td>Orang tua/ kerabat</td>\n",
       "      <td>1</td>\n",
       "    </tr>\n",
       "    <tr>\n",
       "      <th>2</th>\n",
       "      <td>2110270003</td>\n",
       "      <td>mahasiswa 3</td>\n",
       "      <td>KPI</td>\n",
       "      <td>KAB. SAMPANG</td>\n",
       "      <td>Jawa Timur</td>\n",
       "      <td>Rp. 500.001 s/d Rp. 999.999</td>\n",
       "      <td>Juara di sekolah</td>\n",
       "      <td>Kampus berbasis pesantren</td>\n",
       "      <td>Kesadaran diri sendiri</td>\n",
       "      <td>1</td>\n",
       "    </tr>\n",
       "    <tr>\n",
       "      <th>3</th>\n",
       "      <td>2110370004</td>\n",
       "      <td>mahasiswa 4</td>\n",
       "      <td>KPI</td>\n",
       "      <td>KOTA ADM. JAKARTA UTARA</td>\n",
       "      <td>DKI Jakarta</td>\n",
       "      <td>Kurang dari Rp. 500.000</td>\n",
       "      <td>Tidak pernah meraih prestasi</td>\n",
       "      <td>Kampus berbasis pesantren</td>\n",
       "      <td>Kesadaran diri sendiri</td>\n",
       "      <td>0</td>\n",
       "    </tr>\n",
       "    <tr>\n",
       "      <th>4</th>\n",
       "      <td>2110470005</td>\n",
       "      <td>mahasiswa 5</td>\n",
       "      <td>KPI</td>\n",
       "      <td>KAB. BONDOWOSO</td>\n",
       "      <td>Jawa Timur</td>\n",
       "      <td>Kurang dari Rp. 500.000</td>\n",
       "      <td>Juara di sekolah</td>\n",
       "      <td>Kampus berbasis pesantren</td>\n",
       "      <td>Orang tua/ kerabat</td>\n",
       "      <td>1</td>\n",
       "    </tr>\n",
       "    <tr>\n",
       "      <th>...</th>\n",
       "      <td>...</td>\n",
       "      <td>...</td>\n",
       "      <td>...</td>\n",
       "      <td>...</td>\n",
       "      <td>...</td>\n",
       "      <td>...</td>\n",
       "      <td>...</td>\n",
       "      <td>...</td>\n",
       "      <td>...</td>\n",
       "      <td>...</td>\n",
       "    </tr>\n",
       "    <tr>\n",
       "      <th>939</th>\n",
       "      <td>2104070941</td>\n",
       "      <td>mahasiswa 941</td>\n",
       "      <td>EKN</td>\n",
       "      <td>NaN</td>\n",
       "      <td>NaN</td>\n",
       "      <td>NaN</td>\n",
       "      <td>Tidak pernah meraih prestasi</td>\n",
       "      <td>Kampus berbasis pesantren</td>\n",
       "      <td>Orang tua/ kerabat</td>\n",
       "      <td>0</td>\n",
       "    </tr>\n",
       "    <tr>\n",
       "      <th>940</th>\n",
       "      <td>2104170942</td>\n",
       "      <td>mahasiswa 942</td>\n",
       "      <td>EKN</td>\n",
       "      <td>KAB. PROBOLINGGO</td>\n",
       "      <td>Jawa Timur</td>\n",
       "      <td>Rp. 1.000.000 s/d Rp. 1.999.999</td>\n",
       "      <td>Tidak pernah meraih prestasi</td>\n",
       "      <td>Kampus berbasis pesantren</td>\n",
       "      <td>Kesadaran diri sendiri</td>\n",
       "      <td>0</td>\n",
       "    </tr>\n",
       "    <tr>\n",
       "      <th>941</th>\n",
       "      <td>2104270943</td>\n",
       "      <td>mahasiswa 943</td>\n",
       "      <td>EKN</td>\n",
       "      <td>KOTA BONTANG</td>\n",
       "      <td>Kalimantan Timur</td>\n",
       "      <td>Rp. 1.000.000 s/d Rp. 1.999.999</td>\n",
       "      <td>Juara di sekolah</td>\n",
       "      <td>Kampus berbasis pesantren</td>\n",
       "      <td>Kesadaran diri sendiri</td>\n",
       "      <td>1</td>\n",
       "    </tr>\n",
       "    <tr>\n",
       "      <th>942</th>\n",
       "      <td>2104370944</td>\n",
       "      <td>mahasiswa 944</td>\n",
       "      <td>EKN</td>\n",
       "      <td>KAB. PROBOLINGGO</td>\n",
       "      <td>Jawa Timur</td>\n",
       "      <td>Kurang dari Rp. 500.000</td>\n",
       "      <td>Lainnya</td>\n",
       "      <td>Kampus berbasis pesantren</td>\n",
       "      <td>Kesadaran diri sendiri</td>\n",
       "      <td>0</td>\n",
       "    </tr>\n",
       "    <tr>\n",
       "      <th>943</th>\n",
       "      <td>2104470945</td>\n",
       "      <td>mahasiswa 945</td>\n",
       "      <td>EKN</td>\n",
       "      <td>KAB. BONDOWOSO</td>\n",
       "      <td>Jawa Timur</td>\n",
       "      <td>Rp. 500.001 s/d Rp. 999.999</td>\n",
       "      <td>Lainnya</td>\n",
       "      <td>Kampus berbasis pesantren</td>\n",
       "      <td>Orang tua/ kerabat</td>\n",
       "      <td>0</td>\n",
       "    </tr>\n",
       "  </tbody>\n",
       "</table>\n",
       "<p>944 rows × 10 columns</p>\n",
       "</div>"
      ],
      "text/plain": [
       "            nim           nama prodi                kabupaten  \\\n",
       "0    2110070001    mahasiswa 1   KPI         KAB. PROBOLINGGO   \n",
       "1    2110170002    mahasiswa 2   KPI         KAB. PROBOLINGGO   \n",
       "2    2110270003    mahasiswa 3   KPI             KAB. SAMPANG   \n",
       "3    2110370004    mahasiswa 4   KPI  KOTA ADM. JAKARTA UTARA   \n",
       "4    2110470005    mahasiswa 5   KPI           KAB. BONDOWOSO   \n",
       "..          ...            ...   ...                      ...   \n",
       "939  2104070941  mahasiswa 941   EKN                      NaN   \n",
       "940  2104170942  mahasiswa 942   EKN         KAB. PROBOLINGGO   \n",
       "941  2104270943  mahasiswa 943   EKN             KOTA BONTANG   \n",
       "942  2104370944  mahasiswa 944   EKN         KAB. PROBOLINGGO   \n",
       "943  2104470945  mahasiswa 945   EKN           KAB. BONDOWOSO   \n",
       "\n",
       "             provinsi                 penghasilan_ayah  \\\n",
       "0          Jawa Timur          Kurang dari Rp. 500.000   \n",
       "1          Jawa Timur      Rp. 500.001 s/d Rp. 999.999   \n",
       "2          Jawa Timur      Rp. 500.001 s/d Rp. 999.999   \n",
       "3         DKI Jakarta          Kurang dari Rp. 500.000   \n",
       "4          Jawa Timur          Kurang dari Rp. 500.000   \n",
       "..                ...                              ...   \n",
       "939               NaN                              NaN   \n",
       "940        Jawa Timur  Rp. 1.000.000 s/d Rp. 1.999.999   \n",
       "941  Kalimantan Timur  Rp. 1.000.000 s/d Rp. 1.999.999   \n",
       "942        Jawa Timur          Kurang dari Rp. 500.000   \n",
       "943        Jawa Timur      Rp. 500.001 s/d Rp. 999.999   \n",
       "\n",
       "    Prestasi yang pernah saudara/i raih ?  \\\n",
       "0                   Juara di luar sekolah   \n",
       "1                        Juara di sekolah   \n",
       "2                        Juara di sekolah   \n",
       "3            Tidak pernah meraih prestasi   \n",
       "4                        Juara di sekolah   \n",
       "..                                    ...   \n",
       "939          Tidak pernah meraih prestasi   \n",
       "940          Tidak pernah meraih prestasi   \n",
       "941                      Juara di sekolah   \n",
       "942                               Lainnya   \n",
       "943                               Lainnya   \n",
       "\n",
       "    Apa yang membuat saudara/ i tertarik kuliah di Universitas Nurul Jadid ?  \\\n",
       "0                                     Dekat dari rumah                         \n",
       "1                            Kampus berbasis pesantren                         \n",
       "2                            Kampus berbasis pesantren                         \n",
       "3                            Kampus berbasis pesantren                         \n",
       "4                            Kampus berbasis pesantren                         \n",
       "..                                                 ...                         \n",
       "939                          Kampus berbasis pesantren                         \n",
       "940                          Kampus berbasis pesantren                         \n",
       "941                          Kampus berbasis pesantren                         \n",
       "942                          Kampus berbasis pesantren                         \n",
       "943                          Kampus berbasis pesantren                         \n",
       "\n",
       "    Siapa yang memotivasi saudara/ i hingga akhirnya memilih kuliah di Universitas Nurul Jadid ?  \\\n",
       "0                                   Orang tua/ kerabat                                             \n",
       "1                                   Orang tua/ kerabat                                             \n",
       "2                               Kesadaran diri sendiri                                             \n",
       "3                               Kesadaran diri sendiri                                             \n",
       "4                                   Orang tua/ kerabat                                             \n",
       "..                                                 ...                                             \n",
       "939                                 Orang tua/ kerabat                                             \n",
       "940                             Kesadaran diri sendiri                                             \n",
       "941                             Kesadaran diri sendiri                                             \n",
       "942                             Kesadaran diri sendiri                                             \n",
       "943                                 Orang tua/ kerabat                                             \n",
       "\n",
       "     prestasi_terkini  \n",
       "0                   1  \n",
       "1                   1  \n",
       "2                   1  \n",
       "3                   0  \n",
       "4                   1  \n",
       "..                ...  \n",
       "939                 0  \n",
       "940                 0  \n",
       "941                 1  \n",
       "942                 0  \n",
       "943                 0  \n",
       "\n",
       "[944 rows x 10 columns]"
      ]
     },
     "execution_count": 1,
     "metadata": {},
     "output_type": "execute_result"
    }
   ],
   "source": [
    "import pandas as pd\n",
    "\n",
    "df = pd.read_csv('Data_Set.csv')\n",
    "df"
   ]
  },
  {
   "cell_type": "code",
   "execution_count": 2,
   "metadata": {},
   "outputs": [
    {
     "data": {
      "text/plain": [
       "Index(['nim', 'nama', 'prodi', 'kabupaten', 'provinsi', 'penghasilan_ayah',\n",
       "       'Prestasi yang pernah saudara/i raih ?',\n",
       "       'Apa yang membuat saudara/ i tertarik kuliah di Universitas Nurul Jadid ?',\n",
       "       'Siapa yang memotivasi saudara/ i hingga akhirnya memilih kuliah di Universitas Nurul Jadid ?',\n",
       "       'prestasi_terkini'],\n",
       "      dtype='object')"
      ]
     },
     "execution_count": 2,
     "metadata": {},
     "output_type": "execute_result"
    }
   ],
   "source": [
    "df.columns"
   ]
  },
  {
   "cell_type": "code",
   "execution_count": 3,
   "metadata": {},
   "outputs": [],
   "source": [
    "df=df.rename({'Prestasi yang pernah saudara/i raih ?':'prestasi_MasaLalu'},axis=1)"
   ]
  },
  {
   "cell_type": "code",
   "execution_count": 4,
   "metadata": {},
   "outputs": [
    {
     "data": {
      "text/plain": [
       "Index(['nim', 'nama', 'prodi', 'kabupaten', 'provinsi', 'penghasilan_ayah',\n",
       "       'prestasi_MasaLalu',\n",
       "       'Apa yang membuat saudara/ i tertarik kuliah di Universitas Nurul Jadid ?',\n",
       "       'Siapa yang memotivasi saudara/ i hingga akhirnya memilih kuliah di Universitas Nurul Jadid ?',\n",
       "       'prestasi_terkini'],\n",
       "      dtype='object')"
      ]
     },
     "execution_count": 4,
     "metadata": {},
     "output_type": "execute_result"
    }
   ],
   "source": [
    "df.columns"
   ]
  },
  {
   "cell_type": "code",
   "execution_count": 5,
   "metadata": {},
   "outputs": [],
   "source": [
    "df = df.rename({'Siapa yang memotivasi saudara/ i hingga akhirnya memilih kuliah di Universitas Nurul Jadid ?':'sumber_motivasi'},axis=1)"
   ]
  },
  {
   "cell_type": "code",
   "execution_count": 6,
   "metadata": {},
   "outputs": [
    {
     "data": {
      "text/plain": [
       "Index(['nim', 'nama', 'prodi', 'kabupaten', 'provinsi', 'penghasilan_ayah',\n",
       "       'prestasi_MasaLalu',\n",
       "       'Apa yang membuat saudara/ i tertarik kuliah di Universitas Nurul Jadid ?',\n",
       "       'sumber_motivasi', 'prestasi_terkini'],\n",
       "      dtype='object')"
      ]
     },
     "execution_count": 6,
     "metadata": {},
     "output_type": "execute_result"
    }
   ],
   "source": [
    "df.columns"
   ]
  },
  {
   "cell_type": "code",
   "execution_count": 7,
   "metadata": {},
   "outputs": [],
   "source": [
    "df = df.drop(df.columns[[0,1,2,3,4,7]], axis=1)"
   ]
  },
  {
   "cell_type": "code",
   "execution_count": 8,
   "metadata": {},
   "outputs": [
    {
     "data": {
      "text/html": [
       "<div>\n",
       "<style scoped>\n",
       "    .dataframe tbody tr th:only-of-type {\n",
       "        vertical-align: middle;\n",
       "    }\n",
       "\n",
       "    .dataframe tbody tr th {\n",
       "        vertical-align: top;\n",
       "    }\n",
       "\n",
       "    .dataframe thead th {\n",
       "        text-align: right;\n",
       "    }\n",
       "</style>\n",
       "<table border=\"1\" class=\"dataframe\">\n",
       "  <thead>\n",
       "    <tr style=\"text-align: right;\">\n",
       "      <th></th>\n",
       "      <th>penghasilan_ayah</th>\n",
       "      <th>prestasi_MasaLalu</th>\n",
       "      <th>sumber_motivasi</th>\n",
       "      <th>prestasi_terkini</th>\n",
       "    </tr>\n",
       "  </thead>\n",
       "  <tbody>\n",
       "    <tr>\n",
       "      <th>0</th>\n",
       "      <td>Kurang dari Rp. 500.000</td>\n",
       "      <td>Juara di luar sekolah</td>\n",
       "      <td>Orang tua/ kerabat</td>\n",
       "      <td>1</td>\n",
       "    </tr>\n",
       "    <tr>\n",
       "      <th>1</th>\n",
       "      <td>Rp. 500.001 s/d Rp. 999.999</td>\n",
       "      <td>Juara di sekolah</td>\n",
       "      <td>Orang tua/ kerabat</td>\n",
       "      <td>1</td>\n",
       "    </tr>\n",
       "    <tr>\n",
       "      <th>2</th>\n",
       "      <td>Rp. 500.001 s/d Rp. 999.999</td>\n",
       "      <td>Juara di sekolah</td>\n",
       "      <td>Kesadaran diri sendiri</td>\n",
       "      <td>1</td>\n",
       "    </tr>\n",
       "    <tr>\n",
       "      <th>3</th>\n",
       "      <td>Kurang dari Rp. 500.000</td>\n",
       "      <td>Tidak pernah meraih prestasi</td>\n",
       "      <td>Kesadaran diri sendiri</td>\n",
       "      <td>0</td>\n",
       "    </tr>\n",
       "    <tr>\n",
       "      <th>4</th>\n",
       "      <td>Kurang dari Rp. 500.000</td>\n",
       "      <td>Juara di sekolah</td>\n",
       "      <td>Orang tua/ kerabat</td>\n",
       "      <td>1</td>\n",
       "    </tr>\n",
       "    <tr>\n",
       "      <th>...</th>\n",
       "      <td>...</td>\n",
       "      <td>...</td>\n",
       "      <td>...</td>\n",
       "      <td>...</td>\n",
       "    </tr>\n",
       "    <tr>\n",
       "      <th>939</th>\n",
       "      <td>NaN</td>\n",
       "      <td>Tidak pernah meraih prestasi</td>\n",
       "      <td>Orang tua/ kerabat</td>\n",
       "      <td>0</td>\n",
       "    </tr>\n",
       "    <tr>\n",
       "      <th>940</th>\n",
       "      <td>Rp. 1.000.000 s/d Rp. 1.999.999</td>\n",
       "      <td>Tidak pernah meraih prestasi</td>\n",
       "      <td>Kesadaran diri sendiri</td>\n",
       "      <td>0</td>\n",
       "    </tr>\n",
       "    <tr>\n",
       "      <th>941</th>\n",
       "      <td>Rp. 1.000.000 s/d Rp. 1.999.999</td>\n",
       "      <td>Juara di sekolah</td>\n",
       "      <td>Kesadaran diri sendiri</td>\n",
       "      <td>1</td>\n",
       "    </tr>\n",
       "    <tr>\n",
       "      <th>942</th>\n",
       "      <td>Kurang dari Rp. 500.000</td>\n",
       "      <td>Lainnya</td>\n",
       "      <td>Kesadaran diri sendiri</td>\n",
       "      <td>0</td>\n",
       "    </tr>\n",
       "    <tr>\n",
       "      <th>943</th>\n",
       "      <td>Rp. 500.001 s/d Rp. 999.999</td>\n",
       "      <td>Lainnya</td>\n",
       "      <td>Orang tua/ kerabat</td>\n",
       "      <td>0</td>\n",
       "    </tr>\n",
       "  </tbody>\n",
       "</table>\n",
       "<p>944 rows × 4 columns</p>\n",
       "</div>"
      ],
      "text/plain": [
       "                    penghasilan_ayah             prestasi_MasaLalu  \\\n",
       "0            Kurang dari Rp. 500.000         Juara di luar sekolah   \n",
       "1        Rp. 500.001 s/d Rp. 999.999              Juara di sekolah   \n",
       "2        Rp. 500.001 s/d Rp. 999.999              Juara di sekolah   \n",
       "3            Kurang dari Rp. 500.000  Tidak pernah meraih prestasi   \n",
       "4            Kurang dari Rp. 500.000              Juara di sekolah   \n",
       "..                               ...                           ...   \n",
       "939                              NaN  Tidak pernah meraih prestasi   \n",
       "940  Rp. 1.000.000 s/d Rp. 1.999.999  Tidak pernah meraih prestasi   \n",
       "941  Rp. 1.000.000 s/d Rp. 1.999.999              Juara di sekolah   \n",
       "942          Kurang dari Rp. 500.000                       Lainnya   \n",
       "943      Rp. 500.001 s/d Rp. 999.999                       Lainnya   \n",
       "\n",
       "            sumber_motivasi  prestasi_terkini  \n",
       "0        Orang tua/ kerabat                 1  \n",
       "1        Orang tua/ kerabat                 1  \n",
       "2    Kesadaran diri sendiri                 1  \n",
       "3    Kesadaran diri sendiri                 0  \n",
       "4        Orang tua/ kerabat                 1  \n",
       "..                      ...               ...  \n",
       "939      Orang tua/ kerabat                 0  \n",
       "940  Kesadaran diri sendiri                 0  \n",
       "941  Kesadaran diri sendiri                 1  \n",
       "942  Kesadaran diri sendiri                 0  \n",
       "943      Orang tua/ kerabat                 0  \n",
       "\n",
       "[944 rows x 4 columns]"
      ]
     },
     "execution_count": 8,
     "metadata": {},
     "output_type": "execute_result"
    }
   ],
   "source": [
    "df"
   ]
  },
  {
   "cell_type": "code",
   "execution_count": 9,
   "metadata": {},
   "outputs": [
    {
     "data": {
      "text/plain": [
       "penghasilan_ayah     15\n",
       "prestasi_MasaLalu     0\n",
       "sumber_motivasi       0\n",
       "prestasi_terkini      0\n",
       "dtype: int64"
      ]
     },
     "execution_count": 9,
     "metadata": {},
     "output_type": "execute_result"
    }
   ],
   "source": [
    "df.isnull().sum()"
   ]
  },
  {
   "cell_type": "code",
   "execution_count": 10,
   "metadata": {},
   "outputs": [
    {
     "data": {
      "text/plain": [
       "0"
      ]
     },
     "execution_count": 10,
     "metadata": {},
     "output_type": "execute_result"
    }
   ],
   "source": [
    "modus= df['penghasilan_ayah'].mode()[0]\n",
    "df['penghasilan_ayah']= df['penghasilan_ayah'].fillna(modus)\n",
    "df['penghasilan_ayah'].isna().sum()"
   ]
  },
  {
   "cell_type": "code",
   "execution_count": 11,
   "metadata": {},
   "outputs": [
    {
     "data": {
      "text/plain": [
       "penghasilan_ayah     0\n",
       "prestasi_MasaLalu    0\n",
       "sumber_motivasi      0\n",
       "prestasi_terkini     0\n",
       "dtype: int64"
      ]
     },
     "execution_count": 11,
     "metadata": {},
     "output_type": "execute_result"
    }
   ],
   "source": [
    "df.isnull().sum()"
   ]
  },
  {
   "cell_type": "markdown",
   "metadata": {},
   "source": [
    "# label encoding"
   ]
  },
  {
   "cell_type": "code",
   "execution_count": 12,
   "metadata": {},
   "outputs": [
    {
     "data": {
      "text/plain": [
       "0      0\n",
       "1      5\n",
       "2      5\n",
       "3      0\n",
       "4      0\n",
       "      ..\n",
       "939    5\n",
       "940    2\n",
       "941    2\n",
       "942    0\n",
       "943    5\n",
       "Name: penghasilan_ayah, Length: 944, dtype: int64"
      ]
     },
     "execution_count": 12,
     "metadata": {},
     "output_type": "execute_result"
    }
   ],
   "source": [
    "# Label encoding pada Scikit learn #\n",
    "from sklearn.preprocessing import LabelEncoder\n",
    "label_encoder = LabelEncoder()\n",
    "df['penghasilan_ayah'] = label_encoder.fit_transform(df['penghasilan_ayah'])\n",
    "df['penghasilan_ayah']"
   ]
  },
  {
   "cell_type": "code",
   "execution_count": 13,
   "metadata": {},
   "outputs": [
    {
     "data": {
      "text/plain": [
       "array(['Kurang dari Rp. 500.000', 'Lebih dari Rp. 20.000.000',\n",
       "       'Rp. 1.000.000 s/d Rp. 1.999.999',\n",
       "       'Rp. 2.000.000 s/d Rp. 4.999.999',\n",
       "       'Rp. 5.000.000 s/d Rp. 20.000.000', 'Rp. 500.001 s/d Rp. 999.999'],\n",
       "      dtype=object)"
      ]
     },
     "execution_count": 13,
     "metadata": {},
     "output_type": "execute_result"
    }
   ],
   "source": [
    "label_encoder.classes_"
   ]
  },
  {
   "cell_type": "code",
   "execution_count": 14,
   "metadata": {},
   "outputs": [
    {
     "data": {
      "text/plain": [
       "0      0\n",
       "1      1\n",
       "2      1\n",
       "3      3\n",
       "4      1\n",
       "      ..\n",
       "939    3\n",
       "940    3\n",
       "941    1\n",
       "942    2\n",
       "943    2\n",
       "Name: prestasi_MasaLalu, Length: 944, dtype: int64"
      ]
     },
     "execution_count": 14,
     "metadata": {},
     "output_type": "execute_result"
    }
   ],
   "source": [
    "df['prestasi_MasaLalu'] = label_encoder.fit_transform(df['prestasi_MasaLalu'])\n",
    "df['prestasi_MasaLalu']"
   ]
  },
  {
   "cell_type": "code",
   "execution_count": 15,
   "metadata": {},
   "outputs": [
    {
     "data": {
      "text/plain": [
       "array(['Juara di luar sekolah', 'Juara di sekolah', 'Lainnya',\n",
       "       'Tidak pernah meraih prestasi'], dtype=object)"
      ]
     },
     "execution_count": 15,
     "metadata": {},
     "output_type": "execute_result"
    }
   ],
   "source": [
    "label_encoder.classes_"
   ]
  },
  {
   "cell_type": "code",
   "execution_count": 16,
   "metadata": {},
   "outputs": [
    {
     "data": {
      "text/plain": [
       "0      3\n",
       "1      3\n",
       "2      1\n",
       "3      1\n",
       "4      3\n",
       "      ..\n",
       "939    3\n",
       "940    1\n",
       "941    1\n",
       "942    1\n",
       "943    3\n",
       "Name: sumber_motivasi, Length: 944, dtype: int64"
      ]
     },
     "execution_count": 16,
     "metadata": {},
     "output_type": "execute_result"
    }
   ],
   "source": [
    "df['sumber_motivasi'] = label_encoder.fit_transform(df['sumber_motivasi'])\n",
    "df['sumber_motivasi']"
   ]
  },
  {
   "cell_type": "code",
   "execution_count": 17,
   "metadata": {},
   "outputs": [
    {
     "data": {
      "text/plain": [
       "array(['Guru di sekolah', 'Kesadaran diri sendiri', 'Lainnya',\n",
       "       'Orang tua/ kerabat', 'Teman sekolah'], dtype=object)"
      ]
     },
     "execution_count": 17,
     "metadata": {},
     "output_type": "execute_result"
    }
   ],
   "source": [
    "label_encoder.classes_"
   ]
  },
  {
   "cell_type": "code",
   "execution_count": 18,
   "metadata": {},
   "outputs": [
    {
     "data": {
      "text/html": [
       "<div>\n",
       "<style scoped>\n",
       "    .dataframe tbody tr th:only-of-type {\n",
       "        vertical-align: middle;\n",
       "    }\n",
       "\n",
       "    .dataframe tbody tr th {\n",
       "        vertical-align: top;\n",
       "    }\n",
       "\n",
       "    .dataframe thead th {\n",
       "        text-align: right;\n",
       "    }\n",
       "</style>\n",
       "<table border=\"1\" class=\"dataframe\">\n",
       "  <thead>\n",
       "    <tr style=\"text-align: right;\">\n",
       "      <th></th>\n",
       "      <th>penghasilan_ayah</th>\n",
       "      <th>prestasi_MasaLalu</th>\n",
       "      <th>sumber_motivasi</th>\n",
       "      <th>prestasi_terkini</th>\n",
       "    </tr>\n",
       "  </thead>\n",
       "  <tbody>\n",
       "    <tr>\n",
       "      <th>0</th>\n",
       "      <td>0</td>\n",
       "      <td>0</td>\n",
       "      <td>3</td>\n",
       "      <td>1</td>\n",
       "    </tr>\n",
       "    <tr>\n",
       "      <th>1</th>\n",
       "      <td>5</td>\n",
       "      <td>1</td>\n",
       "      <td>3</td>\n",
       "      <td>1</td>\n",
       "    </tr>\n",
       "    <tr>\n",
       "      <th>2</th>\n",
       "      <td>5</td>\n",
       "      <td>1</td>\n",
       "      <td>1</td>\n",
       "      <td>1</td>\n",
       "    </tr>\n",
       "    <tr>\n",
       "      <th>3</th>\n",
       "      <td>0</td>\n",
       "      <td>3</td>\n",
       "      <td>1</td>\n",
       "      <td>0</td>\n",
       "    </tr>\n",
       "    <tr>\n",
       "      <th>4</th>\n",
       "      <td>0</td>\n",
       "      <td>1</td>\n",
       "      <td>3</td>\n",
       "      <td>1</td>\n",
       "    </tr>\n",
       "    <tr>\n",
       "      <th>...</th>\n",
       "      <td>...</td>\n",
       "      <td>...</td>\n",
       "      <td>...</td>\n",
       "      <td>...</td>\n",
       "    </tr>\n",
       "    <tr>\n",
       "      <th>939</th>\n",
       "      <td>5</td>\n",
       "      <td>3</td>\n",
       "      <td>3</td>\n",
       "      <td>0</td>\n",
       "    </tr>\n",
       "    <tr>\n",
       "      <th>940</th>\n",
       "      <td>2</td>\n",
       "      <td>3</td>\n",
       "      <td>1</td>\n",
       "      <td>0</td>\n",
       "    </tr>\n",
       "    <tr>\n",
       "      <th>941</th>\n",
       "      <td>2</td>\n",
       "      <td>1</td>\n",
       "      <td>1</td>\n",
       "      <td>1</td>\n",
       "    </tr>\n",
       "    <tr>\n",
       "      <th>942</th>\n",
       "      <td>0</td>\n",
       "      <td>2</td>\n",
       "      <td>1</td>\n",
       "      <td>0</td>\n",
       "    </tr>\n",
       "    <tr>\n",
       "      <th>943</th>\n",
       "      <td>5</td>\n",
       "      <td>2</td>\n",
       "      <td>3</td>\n",
       "      <td>0</td>\n",
       "    </tr>\n",
       "  </tbody>\n",
       "</table>\n",
       "<p>944 rows × 4 columns</p>\n",
       "</div>"
      ],
      "text/plain": [
       "     penghasilan_ayah  prestasi_MasaLalu  sumber_motivasi  prestasi_terkini\n",
       "0                   0                  0                3                 1\n",
       "1                   5                  1                3                 1\n",
       "2                   5                  1                1                 1\n",
       "3                   0                  3                1                 0\n",
       "4                   0                  1                3                 1\n",
       "..                ...                ...              ...               ...\n",
       "939                 5                  3                3                 0\n",
       "940                 2                  3                1                 0\n",
       "941                 2                  1                1                 1\n",
       "942                 0                  2                1                 0\n",
       "943                 5                  2                3                 0\n",
       "\n",
       "[944 rows x 4 columns]"
      ]
     },
     "execution_count": 18,
     "metadata": {},
     "output_type": "execute_result"
    }
   ],
   "source": [
    "df"
   ]
  },
  {
   "cell_type": "code",
   "execution_count": 19,
   "metadata": {},
   "outputs": [
    {
     "data": {
      "text/html": [
       "<div>\n",
       "<style scoped>\n",
       "    .dataframe tbody tr th:only-of-type {\n",
       "        vertical-align: middle;\n",
       "    }\n",
       "\n",
       "    .dataframe tbody tr th {\n",
       "        vertical-align: top;\n",
       "    }\n",
       "\n",
       "    .dataframe thead th {\n",
       "        text-align: right;\n",
       "    }\n",
       "</style>\n",
       "<table border=\"1\" class=\"dataframe\">\n",
       "  <thead>\n",
       "    <tr style=\"text-align: right;\">\n",
       "      <th></th>\n",
       "      <th>penghasilan_ayah</th>\n",
       "      <th>prestasi_MasaLalu</th>\n",
       "      <th>sumber_motivasi</th>\n",
       "      <th>prestasi_terkini</th>\n",
       "    </tr>\n",
       "  </thead>\n",
       "  <tbody>\n",
       "    <tr>\n",
       "      <th>0</th>\n",
       "      <td>0</td>\n",
       "      <td>0</td>\n",
       "      <td>3</td>\n",
       "      <td>1</td>\n",
       "    </tr>\n",
       "    <tr>\n",
       "      <th>1</th>\n",
       "      <td>5</td>\n",
       "      <td>1</td>\n",
       "      <td>3</td>\n",
       "      <td>1</td>\n",
       "    </tr>\n",
       "    <tr>\n",
       "      <th>2</th>\n",
       "      <td>5</td>\n",
       "      <td>1</td>\n",
       "      <td>1</td>\n",
       "      <td>1</td>\n",
       "    </tr>\n",
       "    <tr>\n",
       "      <th>3</th>\n",
       "      <td>0</td>\n",
       "      <td>3</td>\n",
       "      <td>1</td>\n",
       "      <td>0</td>\n",
       "    </tr>\n",
       "    <tr>\n",
       "      <th>4</th>\n",
       "      <td>0</td>\n",
       "      <td>1</td>\n",
       "      <td>3</td>\n",
       "      <td>1</td>\n",
       "    </tr>\n",
       "  </tbody>\n",
       "</table>\n",
       "</div>"
      ],
      "text/plain": [
       "   penghasilan_ayah  prestasi_MasaLalu  sumber_motivasi  prestasi_terkini\n",
       "0                 0                  0                3                 1\n",
       "1                 5                  1                3                 1\n",
       "2                 5                  1                1                 1\n",
       "3                 0                  3                1                 0\n",
       "4                 0                  1                3                 1"
      ]
     },
     "execution_count": 19,
     "metadata": {},
     "output_type": "execute_result"
    }
   ],
   "source": [
    "df.head()"
   ]
  },
  {
   "cell_type": "code",
   "execution_count": 20,
   "metadata": {},
   "outputs": [
    {
     "data": {
      "text/html": [
       "<div>\n",
       "<style scoped>\n",
       "    .dataframe tbody tr th:only-of-type {\n",
       "        vertical-align: middle;\n",
       "    }\n",
       "\n",
       "    .dataframe tbody tr th {\n",
       "        vertical-align: top;\n",
       "    }\n",
       "\n",
       "    .dataframe thead th {\n",
       "        text-align: right;\n",
       "    }\n",
       "</style>\n",
       "<table border=\"1\" class=\"dataframe\">\n",
       "  <thead>\n",
       "    <tr style=\"text-align: right;\">\n",
       "      <th></th>\n",
       "      <th>penghasilan_ayah</th>\n",
       "      <th>prestasi_MasaLalu</th>\n",
       "      <th>sumber_motivasi</th>\n",
       "      <th>prestasi_terkini</th>\n",
       "    </tr>\n",
       "  </thead>\n",
       "  <tbody>\n",
       "    <tr>\n",
       "      <th>939</th>\n",
       "      <td>5</td>\n",
       "      <td>3</td>\n",
       "      <td>3</td>\n",
       "      <td>0</td>\n",
       "    </tr>\n",
       "    <tr>\n",
       "      <th>940</th>\n",
       "      <td>2</td>\n",
       "      <td>3</td>\n",
       "      <td>1</td>\n",
       "      <td>0</td>\n",
       "    </tr>\n",
       "    <tr>\n",
       "      <th>941</th>\n",
       "      <td>2</td>\n",
       "      <td>1</td>\n",
       "      <td>1</td>\n",
       "      <td>1</td>\n",
       "    </tr>\n",
       "    <tr>\n",
       "      <th>942</th>\n",
       "      <td>0</td>\n",
       "      <td>2</td>\n",
       "      <td>1</td>\n",
       "      <td>0</td>\n",
       "    </tr>\n",
       "    <tr>\n",
       "      <th>943</th>\n",
       "      <td>5</td>\n",
       "      <td>2</td>\n",
       "      <td>3</td>\n",
       "      <td>0</td>\n",
       "    </tr>\n",
       "  </tbody>\n",
       "</table>\n",
       "</div>"
      ],
      "text/plain": [
       "     penghasilan_ayah  prestasi_MasaLalu  sumber_motivasi  prestasi_terkini\n",
       "939                 5                  3                3                 0\n",
       "940                 2                  3                1                 0\n",
       "941                 2                  1                1                 1\n",
       "942                 0                  2                1                 0\n",
       "943                 5                  2                3                 0"
      ]
     },
     "execution_count": 20,
     "metadata": {},
     "output_type": "execute_result"
    }
   ],
   "source": [
    "df.tail()"
   ]
  },
  {
   "cell_type": "code",
   "execution_count": 21,
   "metadata": {},
   "outputs": [
    {
     "data": {
      "text/plain": [
       "(944, 4)"
      ]
     },
     "execution_count": 21,
     "metadata": {},
     "output_type": "execute_result"
    }
   ],
   "source": [
    "df.shape"
   ]
  },
  {
   "cell_type": "code",
   "execution_count": 22,
   "metadata": {},
   "outputs": [
    {
     "name": "stdout",
     "output_type": "stream",
     "text": [
      "<class 'pandas.core.frame.DataFrame'>\n",
      "RangeIndex: 944 entries, 0 to 943\n",
      "Data columns (total 4 columns):\n",
      " #   Column             Non-Null Count  Dtype\n",
      "---  ------             --------------  -----\n",
      " 0   penghasilan_ayah   944 non-null    int64\n",
      " 1   prestasi_MasaLalu  944 non-null    int64\n",
      " 2   sumber_motivasi    944 non-null    int64\n",
      " 3   prestasi_terkini   944 non-null    int64\n",
      "dtypes: int64(4)\n",
      "memory usage: 29.6 KB\n"
     ]
    }
   ],
   "source": [
    "df.info()"
   ]
  },
  {
   "cell_type": "code",
   "execution_count": 23,
   "metadata": {},
   "outputs": [
    {
     "data": {
      "text/plain": [
       "penghasilan_ayah     0\n",
       "prestasi_MasaLalu    0\n",
       "sumber_motivasi      0\n",
       "prestasi_terkini     0\n",
       "dtype: int64"
      ]
     },
     "execution_count": 23,
     "metadata": {},
     "output_type": "execute_result"
    }
   ],
   "source": [
    "#Data sudah clean dan bisa dilanjutkan ke tahap EDA\n",
    "df.isnull().sum()"
   ]
  },
  {
   "cell_type": "code",
   "execution_count": 24,
   "metadata": {},
   "outputs": [
    {
     "data": {
      "text/plain": [
       "<AxesSubplot:xlabel='prestasi_terkini', ylabel='count'>"
      ]
     },
     "execution_count": 24,
     "metadata": {},
     "output_type": "execute_result"
    },
    {
     "data": {
      "image/png": "[encoded data removed]",
      "text/plain": [
       "<Figure size 432x288 with 1 Axes>"
      ]
     },
     "metadata": {
      "needs_background": "light"
     },
     "output_type": "display_data"
    }
   ],
   "source": [
    "#Univariate analysis target.\n",
    "import matplotlib.pyplot as plt\n",
    "import seaborn as sns\n",
    "import warnings\n",
    "warnings.filterwarnings('ignore')\n",
    "\n",
    "sns.countplot(df['prestasi_terkini'])"
   ]
  },
  {
   "cell_type": "markdown",
   "metadata": {},
   "source": [
    "niali 0 untuk mahasiswa yang tidak berpresatsi\n",
    "nilai 1 untuk mahasiswa yang berprestasi"
   ]
  },
  {
   "cell_type": "code",
   "execution_count": 25,
   "metadata": {},
   "outputs": [
    {
     "data": {
      "text/plain": [
       "<AxesSubplot:xlabel='penghasilan_ayah'>"
      ]
     },
     "execution_count": 25,
     "metadata": {},
     "output_type": "execute_result"
    },
    {
     "data": {
      "image/png": "[encoded data removed]",
      "text/plain": [
       "<Figure size 1440x288 with 2 Axes>"
      ]
     },
     "metadata": {
      "needs_background": "light"
     },
     "output_type": "display_data"
    }
   ],
   "source": [
    "#Univariate analysis penghasilan_ayah.\n",
    "\n",
    "f = plt.figure(figsize=(20,4))\n",
    "\n",
    "f.add_subplot(1,2,1)\n",
    "sns.distplot(df['penghasilan_ayah'])\n",
    "\n",
    "f.add_subplot(1,2,2)\n",
    "sns.boxplot(df['penghasilan_ayah'])"
   ]
  },
  {
   "cell_type": "markdown",
   "metadata": {},
   "source": [
    "Dari distplot dapat dilihat bahwa penghasilan_ayah memiliki modus lebih banyak dengan kisaran penghasilan 'Rp. 500.001 s/d Rp. 999.999' .\n",
    "Dari boxplot menunjukan bahwa data tidak memiliki outlier."
   ]
  },
  {
   "cell_type": "code",
   "execution_count": 26,
   "metadata": {},
   "outputs": [
    {
     "data": {
      "text/plain": [
       "<AxesSubplot:xlabel='sumber_motivasi', ylabel='count'>"
      ]
     },
     "execution_count": 26,
     "metadata": {},
     "output_type": "execute_result"
    },
    {
     "data": {
      "image/png": "[encoded data removed]",
      "text/plain": [
       "<Figure size 1440x288 with 2 Axes>"
      ]
     },
     "metadata": {
      "needs_background": "light"
     },
     "output_type": "display_data"
    }
   ],
   "source": [
    "#Univariate analysis pretasi_MasaLalu: 0=Juara di luar sekolah, 1=Juara di sekolah, 2=Lainnya,3=Tidak pernah meraih prestasi\n",
    "#Univariate analysis sumber_motivasi: 0=Guru di sekolah, 1=Kesadaran diri sendiri, 2=Lainnya,3=Orang tua/ kerabat, 4=Teman sekolah\n",
    "\n",
    "f = plt.figure(figsize=(20,4))\n",
    "\n",
    "f.add_subplot(1,3,1)\n",
    "sns.countplot(df['prestasi_MasaLalu'], color='red')\n",
    "\n",
    "f.add_subplot(1,3,2)\n",
    "sns.countplot(df['sumber_motivasi'], color='green')"
   ]
  },
  {
   "cell_type": "markdown",
   "metadata": {},
   "source": [
    "mahasiswa yang berprestasi di sekolah ternyata lebih banyak dari yang lainnya. namun mahasiswa yang juga tidak pernah berprestasi di sekolah hampir mendekati data tersebut.\n",
    "mahasiswa yang melanjutkan kuliah dengan Kesadaran diri sendiri memiliki nilai tertinggi"
   ]
  },
  {
   "cell_type": "code",
   "execution_count": null,
   "metadata": {},
   "outputs": [],
   "source": [
    "#Mencari nilai korelasi antar features.\n",
    "df.corr().style.background_gradient().set_precision(2)"
   ]
  },
  {
   "cell_type": "markdown",
   "metadata": {},
   "source": [
    "ternyata prestasi_terkini memiliki relasi linier negatif lemah dengan penghasilan_ayah dan sumber_motivasi. namun memiliki korelasi kuat dengan prestasi_MasaLalu"
   ]
  },
  {
   "cell_type": "markdown",
   "metadata": {},
   "source": [
    "# Modelling"
   ]
  },
  {
   "cell_type": "code",
   "execution_count": 27,
   "metadata": {},
   "outputs": [],
   "source": [
    "from sklearn.linear_model import LogisticRegression\n",
    "from sklearn.metrics import classification_report\n",
    "from sklearn.model_selection import train_test_split\n",
    "from sklearn.metrics import roc_auc_score\n",
    "from sklearn.model_selection import GridSearchCV"
   ]
  },
  {
   "cell_type": "code",
   "execution_count": 28,
   "metadata": {},
   "outputs": [],
   "source": [
    "#Membuat object Logistic Regression\n",
    "log_reg = LogisticRegression()"
   ]
  },
  {
   "cell_type": "code",
   "execution_count": 29,
   "metadata": {},
   "outputs": [],
   "source": [
    "#Membuat variable x dan y\n",
    "x = df.drop(columns=['prestasi_terkini'])\n",
    "y = df['prestasi_terkini']"
   ]
  },
  {
   "cell_type": "code",
   "execution_count": 30,
   "metadata": {},
   "outputs": [],
   "source": [
    "#Split data kedalam training dan testing\n",
    "x_train, x_test, y_train, y_test = train_test_split(x, y, test_size=0.3, random_state=4)"
   ]
  },
  {
   "cell_type": "code",
   "execution_count": 31,
   "metadata": {},
   "outputs": [
    {
     "data": {
      "text/plain": [
       "LogisticRegression()"
      ]
     },
     "execution_count": 31,
     "metadata": {},
     "output_type": "execute_result"
    }
   ],
   "source": [
    "#Training the model\n",
    "log_reg.fit(x_train, y_train)"
   ]
  },
  {
   "cell_type": "code",
   "execution_count": 32,
   "metadata": {},
   "outputs": [],
   "source": [
    "#Predict testing set\n",
    "y_pred = log_reg.predict(x_test)"
   ]
  },
  {
   "cell_type": "code",
   "execution_count": 33,
   "metadata": {},
   "outputs": [
    {
     "name": "stdout",
     "output_type": "stream",
     "text": [
      "              precision    recall  f1-score   support\n",
      "\n",
      "           0       1.00      1.00      1.00       120\n",
      "           1       1.00      1.00      1.00       164\n",
      "\n",
      "    accuracy                           1.00       284\n",
      "   macro avg       1.00      1.00      1.00       284\n",
      "weighted avg       1.00      1.00      1.00       284\n",
      "\n"
     ]
    }
   ],
   "source": [
    "#Check performa model menggunakan classification_report\n",
    "print(classification_report(y_test, y_pred))"
   ]
  },
  {
   "cell_type": "code",
   "execution_count": 34,
   "metadata": {},
   "outputs": [
    {
     "data": {
      "text/plain": [
       "1.0"
      ]
     },
     "execution_count": 34,
     "metadata": {},
     "output_type": "execute_result"
    }
   ],
   "source": [
    "#Check performa dari model menggunakan auc score\n",
    "roc_auc_score(y_test, y_pred)"
   ]
  },
  {
   "cell_type": "markdown",
   "metadata": {},
   "source": [
    "\n",
    "Dari classification report dapat dilihat bahwa model memiliki rata-rata akurasi diatas 100% mulai dari precision, recall, f1-score, dan support. Accuracy juga menunjukan akurasi 100%.\n",
    "Lalu untuk score dari AUC dapat dilihat bahwa nilainya  100%"
   ]
  },
  {
   "cell_type": "markdown",
   "metadata": {},
   "source": [
    "# Hyperparameter Tuning menggunakan Grid Search"
   ]
  },
  {
   "cell_type": "code",
   "execution_count": 35,
   "metadata": {},
   "outputs": [],
   "source": [
    "#List Hyperparameters yang akan diuji\n",
    "import numpy as np\n",
    "penalty = ['l1', 'l2']\n",
    "C = np.logspace(-4,4,20)"
   ]
  },
  {
   "cell_type": "code",
   "execution_count": 36,
   "metadata": {},
   "outputs": [],
   "source": [
    "#Menjadikan ke dalam bentuk dictionary\n",
    "hyperparameters = dict(penalty=penalty, C=C)"
   ]
  },
  {
   "cell_type": "code",
   "execution_count": 37,
   "metadata": {},
   "outputs": [],
   "source": [
    "logreg = LogisticRegression()"
   ]
  },
  {
   "cell_type": "code",
   "execution_count": 38,
   "metadata": {},
   "outputs": [],
   "source": [
    "#cv itu cross validation\n",
    "clf = GridSearchCV(logreg, hyperparameters, cv=10)"
   ]
  },
  {
   "cell_type": "code",
   "execution_count": 39,
   "metadata": {},
   "outputs": [],
   "source": [
    "best_model = clf.fit(x,y)"
   ]
  },
  {
   "cell_type": "code",
   "execution_count": 40,
   "metadata": {},
   "outputs": [
    {
     "name": "stdout",
     "output_type": "stream",
     "text": [
      "Best Penalty: l2\n",
      "Best C: 0.004832930238571752\n"
     ]
    }
   ],
   "source": [
    "#Nilai hyperpaameters terbaik\n",
    "print('Best Penalty:', best_model.best_estimator_.get_params()['penalty'])\n",
    "print('Best C:', best_model.best_estimator_.get_params()['C'])"
   ]
  },
  {
   "cell_type": "code",
   "execution_count": 41,
   "metadata": {},
   "outputs": [],
   "source": [
    "y_pred = best_model.predict(x_test)"
   ]
  },
  {
   "cell_type": "code",
   "execution_count": 42,
   "metadata": {},
   "outputs": [
    {
     "name": "stdout",
     "output_type": "stream",
     "text": [
      "              precision    recall  f1-score   support\n",
      "\n",
      "           0       1.00      1.00      1.00       120\n",
      "           1       1.00      1.00      1.00       164\n",
      "\n",
      "    accuracy                           1.00       284\n",
      "   macro avg       1.00      1.00      1.00       284\n",
      "weighted avg       1.00      1.00      1.00       284\n",
      "\n"
     ]
    }
   ],
   "source": [
    "print(classification_report(y_test, y_pred))"
   ]
  },
  {
   "cell_type": "code",
   "execution_count": 43,
   "metadata": {},
   "outputs": [
    {
     "data": {
      "text/plain": [
       "1.0"
      ]
     },
     "execution_count": 43,
     "metadata": {},
     "output_type": "execute_result"
    }
   ],
   "source": [
    "roc_auc_score(y_test, y_pred)"
   ]
  },
  {
   "cell_type": "code",
   "execution_count": 44,
   "metadata": {},
   "outputs": [
    {
     "data": {
      "text/html": [
       "<div>\n",
       "<style scoped>\n",
       "    .dataframe tbody tr th:only-of-type {\n",
       "        vertical-align: middle;\n",
       "    }\n",
       "\n",
       "    .dataframe tbody tr th {\n",
       "        vertical-align: top;\n",
       "    }\n",
       "\n",
       "    .dataframe thead th {\n",
       "        text-align: right;\n",
       "    }\n",
       "</style>\n",
       "<table border=\"1\" class=\"dataframe\">\n",
       "  <thead>\n",
       "    <tr style=\"text-align: right;\">\n",
       "      <th></th>\n",
       "      <th>penghasilan_ayah</th>\n",
       "      <th>prestasi_MasaLalu</th>\n",
       "      <th>sumber_motivasi</th>\n",
       "      <th>prestasi_terkini</th>\n",
       "    </tr>\n",
       "  </thead>\n",
       "  <tbody>\n",
       "    <tr>\n",
       "      <th>0</th>\n",
       "      <td>0</td>\n",
       "      <td>0</td>\n",
       "      <td>3</td>\n",
       "      <td>1</td>\n",
       "    </tr>\n",
       "    <tr>\n",
       "      <th>1</th>\n",
       "      <td>5</td>\n",
       "      <td>1</td>\n",
       "      <td>3</td>\n",
       "      <td>1</td>\n",
       "    </tr>\n",
       "    <tr>\n",
       "      <th>2</th>\n",
       "      <td>5</td>\n",
       "      <td>1</td>\n",
       "      <td>1</td>\n",
       "      <td>1</td>\n",
       "    </tr>\n",
       "    <tr>\n",
       "      <th>3</th>\n",
       "      <td>0</td>\n",
       "      <td>3</td>\n",
       "      <td>1</td>\n",
       "      <td>0</td>\n",
       "    </tr>\n",
       "    <tr>\n",
       "      <th>4</th>\n",
       "      <td>0</td>\n",
       "      <td>1</td>\n",
       "      <td>3</td>\n",
       "      <td>1</td>\n",
       "    </tr>\n",
       "  </tbody>\n",
       "</table>\n",
       "</div>"
      ],
      "text/plain": [
       "   penghasilan_ayah  prestasi_MasaLalu  sumber_motivasi  prestasi_terkini\n",
       "0                 0                  0                3                 1\n",
       "1                 5                  1                3                 1\n",
       "2                 5                  1                1                 1\n",
       "3                 0                  3                1                 0\n",
       "4                 0                  1                3                 1"
      ]
     },
     "execution_count": 44,
     "metadata": {},
     "output_type": "execute_result"
    }
   ],
   "source": [
    "df.head()"
   ]
  },
  {
   "cell_type": "markdown",
   "metadata": {},
   "source": [
    "menurut data 1 mahasiswa lagi terdata:\n",
    "penghasilan_ayah = 'Rp. 500.001 s/d Rp. 999.999' = 5\n",
    "presatasi_MasaLalu = tidak pernah meraih prestasi = 3\n",
    "sumber_motivasi = kesadaran diri sendiri = 1"
   ]
  },
  {
   "cell_type": "code",
   "execution_count": 45,
   "metadata": {},
   "outputs": [],
   "source": [
    "#Lalu ubah data diatas ke dalam bentuk list.\n",
    "data = [[5,3,1]]"
   ]
  },
  {
   "cell_type": "code",
   "execution_count": 46,
   "metadata": {},
   "outputs": [
    {
     "data": {
      "text/plain": [
       "array([0])"
      ]
     },
     "execution_count": 46,
     "metadata": {},
     "output_type": "execute_result"
    }
   ],
   "source": [
    "#prediksi\n",
    "best_model.predict(data)"
   ]
  },
  {
   "cell_type": "markdown",
   "metadata": {},
   "source": [
    "Hasil Prediksi didapatkan nilai 0 yang berarti bahwa mahasiswa baru yang terdata tersebut tidak berprestasi dan perlu diasah kembali saat mengikuti perkuliahan."
   ]
  }
 ],
 "metadata": {
  "kernelspec": {
   "display_name": "Python 3",
   "language": "python",
   "name": "python3"
  },
  "language_info": {
   "codemirror_mode": {
    "name": "ipython",
    "version": 3
   },
   "file_extension": ".py",
   "mimetype": "text/x-python",
   "name": "python",
   "nbconvert_exporter": "python",
   "pygments_lexer": "ipython3",
   "version": "3.8.10"
  }
 },
 "nbformat": 4,
 "nbformat_minor": 4
}
